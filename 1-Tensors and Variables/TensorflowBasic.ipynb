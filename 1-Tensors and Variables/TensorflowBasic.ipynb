{
 "cells": [
  {
   "cell_type": "code",
   "execution_count": 1,
   "metadata": {},
   "outputs": [],
   "source": [
    "import tensorflow as tf\n",
    "import numpy as np"
   ]
  },
  {
   "cell_type": "code",
   "execution_count": 2,
   "metadata": {},
   "outputs": [
    {
     "name": "stdout",
     "output_type": "stream",
     "text": [
      "tf.Tensor(1, shape=(), dtype=int32)\n"
     ]
    }
   ],
   "source": [
    "tensor_zero_d = tf.constant(1)\n",
    "print(tensor_zero_d)"
   ]
  },
  {
   "cell_type": "code",
   "execution_count": 3,
   "metadata": {},
   "outputs": [
    {
     "name": "stdout",
     "output_type": "stream",
     "text": [
      "tf.Tensor([ 2  0 -3], shape=(3,), dtype=int32)\n"
     ]
    }
   ],
   "source": [
    "tensor_one_d = tf.constant([2,0,-3])\n",
    "print(tensor_one_d)"
   ]
  },
  {
   "cell_type": "code",
   "execution_count": 4,
   "metadata": {},
   "outputs": [
    {
     "name": "stdout",
     "output_type": "stream",
     "text": [
      "tf.Tensor(\n",
      "[[ 1  2  0]\n",
      " [ 3  5 -1]\n",
      " [ 1  5  6]\n",
      " [ 2  3  8]], shape=(4, 3), dtype=int32)\n"
     ]
    }
   ],
   "source": [
    "tensor_two_d = tf.constant([\n",
    "    [1,2,0],\n",
    "    [3,5,-1],\n",
    "    [1,5,6],\n",
    "    [2,3,8]\n",
    "    ])\n",
    "print(tensor_two_d)"
   ]
  },
  {
   "cell_type": "code",
   "execution_count": 5,
   "metadata": {},
   "outputs": [
    {
     "name": "stdout",
     "output_type": "stream",
     "text": [
      "tf.Tensor(\n",
      "[[[ 1  2  0]\n",
      "  [ 3  5 -1]]\n",
      "\n",
      " [[10  0  2]\n",
      "  [ 1  0  2]]\n",
      "\n",
      " [[ 5  8  0]\n",
      "  [ 2  7  0]]\n",
      "\n",
      " [[ 2  1  9]\n",
      "  [ 4 -3 32]]], shape=(4, 2, 3), dtype=int32)\n",
      "Shape (4, 2, 3)\n",
      "Dimension 3\n",
      "Data Type <dtype: 'int32'>\n"
     ]
    }
   ],
   "source": [
    "tensor_three_d = tf.constant([\n",
    "    [[1,2,0],\n",
    "    [3,5,-1]],\n",
    "    [[10,0,2],\n",
    "     [1,0,2]],\n",
    "    [[5,8,0],\n",
    "     [2,7,0]],\n",
    "    [[2,1,9],\n",
    "     [4,-3,32]]\n",
    "    ])\n",
    "print(tensor_three_d)\n",
    "print(\"Shape\",tensor_three_d.shape)\n",
    "print(\"Dimension\",tensor_three_d.ndim)\n",
    "print(\"Data Type\",tensor_three_d.dtype)"
   ]
  },
  {
   "cell_type": "code",
   "execution_count": 6,
   "metadata": {},
   "outputs": [
    {
     "name": "stdout",
     "output_type": "stream",
     "text": [
      "tf.Tensor(\n",
      "[[[[ 1  2  0]\n",
      "   [ 3  5 -1]]\n",
      "\n",
      "  [[10  0  2]\n",
      "   [ 1  0  2]]\n",
      "\n",
      "  [[ 5  8  0]\n",
      "   [ 2  7  0]]\n",
      "\n",
      "  [[ 2  1  9]\n",
      "   [ 4 -3 32]]]\n",
      "\n",
      "\n",
      " [[[ 0  2  5]\n",
      "   [ 5  3  1]]\n",
      "\n",
      "  [[ 0  2  0]\n",
      "   [-1 10  0]]\n",
      "\n",
      "  [[ 0  5  1]\n",
      "   [ 1  7  0]]\n",
      "\n",
      "  [[ 3  8  7]\n",
      "   [ 3  2  2]]]\n",
      "\n",
      "\n",
      " [[[ 4  5  4]\n",
      "   [ 3  1  1]]\n",
      "\n",
      "  [[ 0  2  5]\n",
      "   [ 0  4  3]]\n",
      "\n",
      "  [[ 3  4  2]\n",
      "   [ 5  8  3]]\n",
      "\n",
      "  [[ 8  2  5]\n",
      "   [ 2  3  3]]]], shape=(3, 4, 2, 3), dtype=int32)\n"
     ]
    }
   ],
   "source": [
    "tensor_four_d = tf.constant([\n",
    "    [\n",
    "    [[1,2,0],\n",
    "    [3,5,-1]],\n",
    "    [[10,0,2],\n",
    "     [1,0,2]],\n",
    "    [[5,8,0],\n",
    "     [2,7,0]],\n",
    "    [[2,1,9],\n",
    "     [4,-3,32]]\n",
    "     ],\n",
    "    [\n",
    "    [[0,2,5],\n",
    "    [5,3,1]],\n",
    "    [[0,2,0],\n",
    "     [-1,10,0]],\n",
    "    [[0,5,1],\n",
    "     [1,7,0]],\n",
    "    [[3,8,7],\n",
    "     [3,2,2]]\n",
    "     ],\n",
    "    [\n",
    "    [[4,5,4],\n",
    "    [3,1,1]],\n",
    "    [[0,2,5],\n",
    "     [0,4,3]],\n",
    "    [[3,4,2],\n",
    "     [5,8,3]],\n",
    "    [[8,2,5],\n",
    "     [2,3,3]]\n",
    "     ],\n",
    "     ])\n",
    "print(tensor_four_d)"
   ]
  },
  {
   "cell_type": "code",
   "execution_count": 7,
   "metadata": {},
   "outputs": [
    {
     "name": "stdout",
     "output_type": "stream",
     "text": [
      "tf.Tensor([ 2.3  0.  -3. ], shape=(3,), dtype=float16)\n"
     ]
    }
   ],
   "source": [
    "tensor_one_d = tf.constant([2.3,0,-3], dtype=tf.float16)\n",
    "print(tensor_one_d)"
   ]
  },
  {
   "cell_type": "code",
   "execution_count": 8,
   "metadata": {},
   "outputs": [
    {
     "name": "stdout",
     "output_type": "stream",
     "text": [
      "tf.Tensor([ 2.3  0.  -3. ], shape=(3,), dtype=float16)\n"
     ]
    }
   ],
   "source": [
    "c_tensor_one_d = tf.cast(tensor_one_d, dtype=tf.float16)\n",
    "print(c_tensor_one_d)"
   ]
  },
  {
   "cell_type": "code",
   "execution_count": 9,
   "metadata": {},
   "outputs": [
    {
     "data": {
      "text/plain": [
       "array([3, 4, 5])"
      ]
     },
     "execution_count": 9,
     "metadata": {},
     "output_type": "execute_result"
    }
   ],
   "source": [
    "x_np = np.array([3,4,5])\n",
    "x_np"
   ]
  },
  {
   "cell_type": "code",
   "execution_count": 10,
   "metadata": {},
   "outputs": [
    {
     "data": {
      "text/plain": [
       "<tf.Tensor: shape=(3,), dtype=float16, numpy=array([3., 4., 5.], dtype=float16)>"
      ]
     },
     "execution_count": 10,
     "metadata": {},
     "output_type": "execute_result"
    }
   ],
   "source": [
    "x_tf = tf.convert_to_tensor(x_np, dtype=tf.float16)\n",
    "x_tf"
   ]
  },
  {
   "cell_type": "code",
   "execution_count": 11,
   "metadata": {},
   "outputs": [
    {
     "data": {
      "text/plain": [
       "<tf.Tensor: shape=(3, 2, 3), dtype=float32, numpy=\n",
       "array([[[1., 0., 0.],\n",
       "        [0., 1., 0.]],\n",
       "\n",
       "       [[1., 0., 0.],\n",
       "        [0., 1., 0.]],\n",
       "\n",
       "       [[1., 0., 0.],\n",
       "        [0., 1., 0.]]], dtype=float32)>"
      ]
     },
     "execution_count": 11,
     "metadata": {},
     "output_type": "execute_result"
    }
   ],
   "source": [
    "identity_matrix = tf.eye(num_rows=2,num_columns=3,batch_shape=[3])\n",
    "identity_matrix"
   ]
  },
  {
   "cell_type": "code",
   "execution_count": 12,
   "metadata": {},
   "outputs": [
    {
     "data": {
      "text/plain": [
       "<tf.Tensor: shape=(2, 3), dtype=int32, numpy=\n",
       "array([[9, 9, 9],\n",
       "       [9, 9, 9]])>"
      ]
     },
     "execution_count": 12,
     "metadata": {},
     "output_type": "execute_result"
    }
   ],
   "source": [
    "fill_Tensor = tf.fill([2,3],9)\n",
    "fill_Tensor"
   ]
  },
  {
   "cell_type": "code",
   "execution_count": 13,
   "metadata": {},
   "outputs": [
    {
     "data": {
      "text/plain": [
       "<tf.Tensor: shape=(2, 3), dtype=float32, numpy=\n",
       "array([[1., 1., 1.],\n",
       "       [1., 1., 1.]], dtype=float32)>"
      ]
     },
     "execution_count": 13,
     "metadata": {},
     "output_type": "execute_result"
    }
   ],
   "source": [
    "ones_tensor = tf.ones([2,3])\n",
    "ones_tensor"
   ]
  },
  {
   "cell_type": "code",
   "execution_count": 14,
   "metadata": {},
   "outputs": [
    {
     "data": {
      "text/plain": [
       "<tf.Tensor: shape=(2, 3), dtype=float32, numpy=\n",
       "array([[0., 0., 0.],\n",
       "       [0., 0., 0.]], dtype=float32)>"
      ]
     },
     "execution_count": 14,
     "metadata": {},
     "output_type": "execute_result"
    }
   ],
   "source": [
    "zeroes_tensor = tf.zeros([2,3])\n",
    "zeroes_tensor"
   ]
  },
  {
   "cell_type": "code",
   "execution_count": 15,
   "metadata": {},
   "outputs": [
    {
     "data": {
      "text/plain": [
       "<tf.Tensor: shape=(3, 4, 2, 3), dtype=int32, numpy=\n",
       "array([[[[1, 1, 1],\n",
       "         [1, 1, 1]],\n",
       "\n",
       "        [[1, 1, 1],\n",
       "         [1, 1, 1]],\n",
       "\n",
       "        [[1, 1, 1],\n",
       "         [1, 1, 1]],\n",
       "\n",
       "        [[1, 1, 1],\n",
       "         [1, 1, 1]]],\n",
       "\n",
       "\n",
       "       [[[1, 1, 1],\n",
       "         [1, 1, 1]],\n",
       "\n",
       "        [[1, 1, 1],\n",
       "         [1, 1, 1]],\n",
       "\n",
       "        [[1, 1, 1],\n",
       "         [1, 1, 1]],\n",
       "\n",
       "        [[1, 1, 1],\n",
       "         [1, 1, 1]]],\n",
       "\n",
       "\n",
       "       [[[1, 1, 1],\n",
       "         [1, 1, 1]],\n",
       "\n",
       "        [[1, 1, 1],\n",
       "         [1, 1, 1]],\n",
       "\n",
       "        [[1, 1, 1],\n",
       "         [1, 1, 1]],\n",
       "\n",
       "        [[1, 1, 1],\n",
       "         [1, 1, 1]]]])>"
      ]
     },
     "execution_count": 15,
     "metadata": {},
     "output_type": "execute_result"
    }
   ],
   "source": [
    "ones_like_tensor = tf.ones_like(tensor_four_d)\n",
    "ones_like_tensor"
   ]
  },
  {
   "cell_type": "code",
   "execution_count": 16,
   "metadata": {},
   "outputs": [
    {
     "data": {
      "text/plain": [
       "<tf.Tensor: shape=(4,), dtype=int32, numpy=array([2, 4, 6, 8])>"
      ]
     },
     "execution_count": 16,
     "metadata": {},
     "output_type": "execute_result"
    }
   ],
   "source": [
    "range_tensor = tf.range(start=2, limit=10, delta=2)\n",
    "range_tensor"
   ]
  },
  {
   "cell_type": "code",
   "execution_count": 17,
   "metadata": {},
   "outputs": [
    {
     "data": {
      "text/plain": [
       "<tf.Tensor: shape=(1,), dtype=int32, numpy=array([4])>"
      ]
     },
     "execution_count": 17,
     "metadata": {},
     "output_type": "execute_result"
    }
   ],
   "source": [
    "tf.shape(range_tensor)"
   ]
  },
  {
   "cell_type": "code",
   "execution_count": 18,
   "metadata": {},
   "outputs": [
    {
     "data": {
      "text/plain": [
       "<tf.Tensor: shape=(), dtype=int32, numpy=4>"
      ]
     },
     "execution_count": 18,
     "metadata": {},
     "output_type": "execute_result"
    }
   ],
   "source": [
    "tf.size(range_tensor)"
   ]
  },
  {
   "cell_type": "code",
   "execution_count": 19,
   "metadata": {},
   "outputs": [
    {
     "data": {
      "text/plain": [
       "<tf.Tensor: shape=(2, 3), dtype=float32, numpy=\n",
       "array([[-1.2545965 , -1.2422496 , -0.05050273],\n",
       "       [ 1.1684766 , -0.0026021 , -0.13619329]], dtype=float32)>"
      ]
     },
     "execution_count": 19,
     "metadata": {},
     "output_type": "execute_result"
    }
   ],
   "source": [
    "g = tf.random.Generator.from_non_deterministic_state()\n",
    "g.normal(shape=(2, 3))"
   ]
  },
  {
   "cell_type": "code",
   "execution_count": 20,
   "metadata": {},
   "outputs": [
    {
     "data": {
      "text/plain": [
       "<tf.Tensor: shape=(2, 3), dtype=float32, numpy=\n",
       "array([[ 0.8673864 , -0.29899067, -0.9310337 ],\n",
       "       [-1.5828488 ,  1.2481191 , -0.6770643 ]], dtype=float32)>"
      ]
     },
     "execution_count": 20,
     "metadata": {},
     "output_type": "execute_result"
    }
   ],
   "source": [
    "g = tf.random.Generator.from_seed(123)\n",
    "g.normal(shape=(2, 3))"
   ]
  },
  {
   "cell_type": "code",
   "execution_count": 21,
   "metadata": {},
   "outputs": [
    {
     "data": {
      "text/plain": [
       "<tf.Tensor: shape=(2, 3), dtype=float32, numpy=\n",
       "array([[0.65647066, 0.30283117, 0.18523741],\n",
       "       [0.5846225 , 0.36490846, 0.3291067 ]], dtype=float32)>"
      ]
     },
     "execution_count": 21,
     "metadata": {},
     "output_type": "execute_result"
    }
   ],
   "source": [
    "g = tf.random.Generator.from_seed(123)\n",
    "g.uniform(shape=(2, 3))"
   ]
  },
  {
   "cell_type": "code",
   "execution_count": 22,
   "metadata": {},
   "outputs": [
    {
     "data": {
      "text/plain": [
       "<tf.Tensor: shape=(2, 3), dtype=float32, numpy=\n",
       "array([[ 0.8673864 , -0.29899067, -0.9310337 ],\n",
       "       [-1.5828488 ,  1.2481191 , -0.6770643 ]], dtype=float32)>"
      ]
     },
     "execution_count": 22,
     "metadata": {},
     "output_type": "execute_result"
    }
   ],
   "source": [
    "g = tf.random.Generator.from_seed(123)\n",
    "g.normal(shape=(2, 3), mean=0., stddev=1.0)"
   ]
  },
  {
   "cell_type": "code",
   "execution_count": 23,
   "metadata": {},
   "outputs": [
    {
     "data": {
      "text/plain": [
       "<tf.Tensor: shape=(2, 3), dtype=float32, numpy=\n",
       "array([[65.647064, 30.283117, 18.52374 ],\n",
       "       [58.46225 , 36.490845, 32.910667]], dtype=float32)>"
      ]
     },
     "execution_count": 23,
     "metadata": {},
     "output_type": "execute_result"
    }
   ],
   "source": [
    "g = tf.random.Generator.from_seed(123)\n",
    "g.uniform(shape=(2, 3), minval=0, maxval=100)"
   ]
  },
  {
   "cell_type": "code",
   "execution_count": 24,
   "metadata": {},
   "outputs": [
    {
     "data": {
      "text/plain": [
       "<tf.Tensor: shape=(3, 2), dtype=float32, numpy=\n",
       "array([[ 0.09481047, -0.0424097 ],\n",
       "       [ 0.01854984,  0.07641087],\n",
       "       [-0.02177913,  0.01085432]], dtype=float32)>"
      ]
     },
     "execution_count": 24,
     "metadata": {},
     "output_type": "execute_result"
    }
   ],
   "source": [
    "normal_tensor = tf.random.normal((3,2),mean=0.0, stddev=0.05, seed=None)\n",
    "normal_tensor"
   ]
  },
  {
   "cell_type": "code",
   "execution_count": 25,
   "metadata": {},
   "outputs": [
    {
     "data": {
      "text/plain": [
       "<tf.Tensor: shape=(3, 2), dtype=float32, numpy=\n",
       "array([[0.02573587, 0.00300751],\n",
       "       [0.04530696, 0.04639232],\n",
       "       [0.04955447, 0.04326447]], dtype=float32)>"
      ]
     },
     "execution_count": 25,
     "metadata": {},
     "output_type": "execute_result"
    }
   ],
   "source": [
    "normal_tensor = tf.random.uniform((3,2),minval=0.0, maxval=0.05, seed=None)\n",
    "normal_tensor"
   ]
  },
  {
   "cell_type": "code",
   "execution_count": 26,
   "metadata": {},
   "outputs": [
    {
     "name": "stdout",
     "output_type": "stream",
     "text": [
      "tf.Tensor([ 3  6  2  4  6 66  7], shape=(7,), dtype=int32)\n",
      "tf.Tensor([6 2 4], shape=(3,), dtype=int32)\n",
      "tf.Tensor([ 6  2  4  6 66  7], shape=(6,), dtype=int32)\n",
      "tf.Tensor([ 6  4 66], shape=(3,), dtype=int32)\n",
      "tf.Tensor([ 6  2  4  6 66], shape=(5,), dtype=int32)\n"
     ]
    }
   ],
   "source": [
    "tensor_index = tf.constant([3,6,2,4,6,66,7])\n",
    "print(tensor_index)\n",
    "print(tensor_index[1:4])\n",
    "print(tensor_index[1:])\n",
    "print(tensor_index[1:6:2])\n",
    "print(tensor_index[1:-1])"
   ]
  },
  {
   "cell_type": "code",
   "execution_count": 27,
   "metadata": {},
   "outputs": [
    {
     "name": "stdout",
     "output_type": "stream",
     "text": [
      "tf.Tensor(\n",
      "[[ 1  2  0]\n",
      " [ 3  5 -1]\n",
      " [ 1  5  6]\n",
      " [ 2  3  8]], shape=(4, 3), dtype=int32)\n",
      "tf.Tensor(\n",
      "[[1 2]\n",
      " [3 5]\n",
      " [1 5]], shape=(3, 2), dtype=int32)\n",
      "tf.Tensor(\n",
      "[[ 1  2  0]\n",
      " [ 3  5 -1]\n",
      " [ 1  5  6]], shape=(3, 3), dtype=int32)\n",
      "tf.Tensor([1 5 6], shape=(3,), dtype=int32)\n",
      "tf.Tensor(1, shape=(), dtype=int32)\n",
      "tf.Tensor([1 3 1 2], shape=(4,), dtype=int32)\n",
      "tf.Tensor([ 0 -1  6  8], shape=(4,), dtype=int32)\n"
     ]
    }
   ],
   "source": [
    "tensor_two_d = tf.constant([\n",
    "    [1,2,0],\n",
    "    [3,5,-1],\n",
    "    [1,5,6],\n",
    "    [2,3,8],\n",
    "])\n",
    "\n",
    "print(tensor_two_d)\n",
    "print(tensor_two_d[0:3,0:2])\n",
    "print(tensor_two_d[0:3,:])\n",
    "print(tensor_two_d[2,:])\n",
    "print(tensor_two_d[2,0])\n",
    "print(tensor_two_d[:,0])\n",
    "print(tensor_two_d[...,2])"
   ]
  },
  {
   "cell_type": "code",
   "execution_count": 28,
   "metadata": {},
   "outputs": [
    {
     "name": "stdout",
     "output_type": "stream",
     "text": [
      "tf.Tensor(\n",
      "[[ 1  2  0]\n",
      " [ 3  5 -1]], shape=(2, 3), dtype=int32)\n",
      "tf.Tensor([1 2 0], shape=(3,), dtype=int32)\n",
      "tf.Tensor([ 0 -1], shape=(2,), dtype=int32)\n",
      "tf.Tensor(\n",
      "[[ 0 -1]\n",
      " [ 2  2]], shape=(2, 2), dtype=int32)\n",
      "tf.Tensor(\n",
      "[[ 0 -1]\n",
      " [ 2  2]\n",
      " [ 0  0]\n",
      " [ 9 32]], shape=(4, 2), dtype=int32)\n"
     ]
    }
   ],
   "source": [
    "tensor_three_d = tf.constant([\n",
    "    [[1,2,0],\n",
    "    [3,5,-1]],\n",
    "    [[10,0,2],\n",
    "     [1,0,2]],\n",
    "    [[5,8,0],\n",
    "     [2,7,0]],\n",
    "    [[2,1,9],\n",
    "     [4,-3,32]]\n",
    "    ])\n",
    "\n",
    "print(tensor_three_d[0,:,:])\n",
    "print(tensor_three_d[0,0,:])\n",
    "print(tensor_three_d[0,:,-1])\n",
    "print(tensor_three_d[0:2,:,-1])\n",
    "print(tensor_three_d[...,:,2])"
   ]
  },
  {
   "cell_type": "code",
   "execution_count": 29,
   "metadata": {},
   "outputs": [
    {
     "data": {
      "text/plain": [
       "<tf.Tensor: shape=(), dtype=int32, numpy=10>"
      ]
     },
     "execution_count": 29,
     "metadata": {},
     "output_type": "execute_result"
    }
   ],
   "source": [
    "tf.abs(tf.constant(-10))"
   ]
  },
  {
   "cell_type": "code",
   "execution_count": 30,
   "metadata": {},
   "outputs": [
    {
     "data": {
      "text/plain": [
       "<tf.Tensor: shape=(1,), dtype=float64, numpy=array([5.25594901])>"
      ]
     },
     "execution_count": 30,
     "metadata": {},
     "output_type": "execute_result"
    }
   ],
   "source": [
    "tf.abs(tf.constant([-2.25+4.75j]))"
   ]
  },
  {
   "cell_type": "code",
   "execution_count": 31,
   "metadata": {},
   "outputs": [
    {
     "data": {
      "text/plain": [
       "<tf.Tensor: shape=(1,), dtype=float32, numpy=array([2.], dtype=float32)>"
      ]
     },
     "execution_count": 31,
     "metadata": {},
     "output_type": "execute_result"
    }
   ],
   "source": [
    "tf.sqrt(tf.constant([4.]))"
   ]
  },
  {
   "cell_type": "code",
   "execution_count": 32,
   "metadata": {},
   "outputs": [
    {
     "name": "stdout",
     "output_type": "stream",
     "text": [
      "tf.Tensor([ 4.  1. 10.], shape=(3,), dtype=float32)\n",
      "tf.Tensor([ 4.  0. 25.], shape=(3,), dtype=float32)\n",
      "tf.Tensor([0. 1. 0.], shape=(3,), dtype=float32)\n",
      "tf.Tensor([ 1. inf  1.], shape=(3,), dtype=float32)\n",
      "tf.Tensor([1. 0. 1.], shape=(3,), dtype=float32)\n"
     ]
    }
   ],
   "source": [
    "x_1 = tf.constant([2,1,5], dtype=tf.float32)\n",
    "x_2 = tf.constant([2,0,5],dtype=tf.float32)\n",
    "\n",
    "print(tf.add(x_1,x_2) )\n",
    "print(tf.multiply(x_1,x_2)) \n",
    "print(tf.subtract(x_1,x_2)) \n",
    "print(tf.divide(x_1,x_2)) \n",
    "print(tf.math.divide_no_nan(x_1,x_2)) "
   ]
  },
  {
   "cell_type": "code",
   "execution_count": 33,
   "metadata": {},
   "outputs": [
    {
     "name": "stdout",
     "output_type": "stream",
     "text": [
      "tf.Tensor([ 9.  8. 12. 19. 11. 12. 13.], shape=(7,), dtype=float32)\n"
     ]
    }
   ],
   "source": [
    "x_1 = tf.constant([2,1,5,12,4,5,6], dtype=tf.float32)\n",
    "x_2 = tf.constant([7],dtype=tf.float32)\n",
    "\n",
    "print(tf.add(x_1,x_2) )"
   ]
  },
  {
   "cell_type": "code",
   "execution_count": 34,
   "metadata": {},
   "outputs": [
    {
     "name": "stdout",
     "output_type": "stream",
     "text": [
      "tf.Tensor(5, shape=(), dtype=int32)\n",
      "tf.Tensor(3, shape=(), dtype=int32)\n"
     ]
    }
   ],
   "source": [
    "print(tf.maximum(3,5))\n",
    "print(tf.minimum(3,5))"
   ]
  },
  {
   "cell_type": "code",
   "execution_count": 35,
   "metadata": {},
   "outputs": [
    {
     "name": "stdout",
     "output_type": "stream",
     "text": [
      "tf.Tensor(3, shape=(), dtype=int64)\n",
      "tf.Tensor(0, shape=(), dtype=int64)\n"
     ]
    }
   ],
   "source": [
    "x = [1,23,4,100]\n",
    "\n",
    "print(tf.argmax(x))\n",
    "print(tf.argmin(x))"
   ]
  },
  {
   "cell_type": "code",
   "execution_count": 36,
   "metadata": {},
   "outputs": [
    {
     "name": "stdout",
     "output_type": "stream",
     "text": [
      "tf.Tensor([1 1 2], shape=(3,), dtype=int64)\n",
      "tf.Tensor([0 0 1], shape=(3,), dtype=int64)\n",
      "tf.Tensor([1 1 2 2], shape=(4,), dtype=int64)\n",
      "tf.Tensor([2 2 0 0], shape=(4,), dtype=int64)\n"
     ]
    }
   ],
   "source": [
    "x = tf.constant(tf.constant([\n",
    "    [1,2,0],\n",
    "    [3,5,-1],\n",
    "    [1,5,60],\n",
    "    [2,3,8]\n",
    "    ]))\n",
    "\n",
    "print(tf.argmax(x, axis=0))\n",
    "print(tf.argmin(x, axis=0))\n",
    "print(tf.argmax(x, axis=1))\n",
    "print(tf.argmin(x, axis=1))"
   ]
  },
  {
   "cell_type": "code",
   "execution_count": 37,
   "metadata": {},
   "outputs": [
    {
     "name": "stdout",
     "output_type": "stream",
     "text": [
      "tf.Tensor([False False], shape=(2,), dtype=bool)\n",
      "tf.Tensor([False  True], shape=(2,), dtype=bool)\n"
     ]
    }
   ],
   "source": [
    "print(tf.equal([3,2],[2,4]))\n",
    "print(tf.equal([3,2],[2]))"
   ]
  },
  {
   "cell_type": "code",
   "execution_count": 38,
   "metadata": {},
   "outputs": [
    {
     "name": "stdout",
     "output_type": "stream",
     "text": [
      "tf.Tensor([ 4 27], shape=(2,), dtype=int32)\n",
      "tf.Tensor([4 9], shape=(2,), dtype=int32)\n"
     ]
    }
   ],
   "source": [
    "print(tf.pow([2,3],[2,3]))\n",
    "print(tf.pow([2,3],[2]))"
   ]
  },
  {
   "cell_type": "code",
   "execution_count": 39,
   "metadata": {},
   "outputs": [
    {
     "name": "stdout",
     "output_type": "stream",
     "text": [
      "tf.Tensor([ 7 15 67], shape=(3,), dtype=int32)\n",
      "tf.Tensor([ 3  7 66 13], shape=(4,), dtype=int32)\n"
     ]
    }
   ],
   "source": [
    "x = tf.constant(tf.constant([\n",
    "    [1,2,0],\n",
    "    [3,5,-1],\n",
    "    [1,5,60],\n",
    "    [2,3,8]\n",
    "    ]))\n",
    "\n",
    "print(tf.reduce_sum(x, axis=0))\n",
    "print(tf.reduce_sum(x, axis=1))"
   ]
  },
  {
   "cell_type": "code",
   "execution_count": 40,
   "metadata": {},
   "outputs": [
    {
     "name": "stdout",
     "output_type": "stream",
     "text": [
      "tf.Tensor([ 3  5 60], shape=(3,), dtype=int32)\n",
      "tf.Tensor([ 2  5 60  8], shape=(4,), dtype=int32)\n"
     ]
    }
   ],
   "source": [
    "print(tf.reduce_max(x, axis=0))\n",
    "print(tf.reduce_max(x, axis=1))"
   ]
  },
  {
   "cell_type": "code",
   "execution_count": 41,
   "metadata": {},
   "outputs": [
    {
     "name": "stdout",
     "output_type": "stream",
     "text": [
      "tf.Tensor([ 1  3 16], shape=(3,), dtype=int32)\n",
      "tf.Tensor([ 1  2 22  4], shape=(4,), dtype=int32)\n"
     ]
    }
   ],
   "source": [
    "print(tf.reduce_mean(x, axis=0))\n",
    "print(tf.reduce_mean(x, axis=1))"
   ]
  },
  {
   "cell_type": "code",
   "execution_count": 42,
   "metadata": {},
   "outputs": [
    {
     "data": {
      "text/plain": [
       "<tf.Tensor: shape=(1, 3), dtype=int32, numpy=array([[ 7, 15, 67]])>"
      ]
     },
     "execution_count": 42,
     "metadata": {},
     "output_type": "execute_result"
    }
   ],
   "source": [
    "tf.reduce_sum(x, axis=0, keepdims=True)"
   ]
  },
  {
   "cell_type": "code",
   "execution_count": 43,
   "metadata": {},
   "outputs": [
    {
     "data": {
      "text/plain": [
       "TopKV2(values=<tf.Tensor: shape=(4, 2), dtype=int32, numpy=\n",
       "array([[ 2,  1],\n",
       "       [ 5,  3],\n",
       "       [60,  5],\n",
       "       [ 8,  3]])>, indices=<tf.Tensor: shape=(4, 2), dtype=int32, numpy=\n",
       "array([[1, 0],\n",
       "       [1, 0],\n",
       "       [2, 1],\n",
       "       [2, 1]])>)"
      ]
     },
     "execution_count": 43,
     "metadata": {},
     "output_type": "execute_result"
    }
   ],
   "source": [
    "tf.math.top_k(x, k=2)"
   ]
  },
  {
   "cell_type": "code",
   "execution_count": 44,
   "metadata": {},
   "outputs": [
    {
     "data": {
      "text/plain": [
       "<tf.Tensor: shape=(2, 3), dtype=int32, numpy=\n",
       "array([[  7,  12,  -2],\n",
       "       [ 14,  26, -11]])>"
      ]
     },
     "execution_count": 44,
     "metadata": {},
     "output_type": "execute_result"
    }
   ],
   "source": [
    "x_1 = tf.constant([[1,2,0],[3,5,-1]])\n",
    "x_2 = tf.constant([[1,2,0],[3,5,-1], [4,5,6]])\n",
    "\n",
    "tf.linalg.matmul(x_1, x_2)"
   ]
  },
  {
   "cell_type": "code",
   "execution_count": 45,
   "metadata": {},
   "outputs": [
    {
     "data": {
      "text/plain": [
       "<tf.Tensor: shape=(2, 3), dtype=int32, numpy=\n",
       "array([[  7,  12,  -2],\n",
       "       [ 14,  26, -11]])>"
      ]
     },
     "execution_count": 45,
     "metadata": {},
     "output_type": "execute_result"
    }
   ],
   "source": [
    "x_1 @ x_2"
   ]
  },
  {
   "cell_type": "code",
   "execution_count": 46,
   "metadata": {},
   "outputs": [
    {
     "data": {
      "text/plain": [
       "<tf.Tensor: shape=(3, 2), dtype=int32, numpy=\n",
       "array([[ 1,  3],\n",
       "       [ 2,  5],\n",
       "       [ 0, -1]])>"
      ]
     },
     "execution_count": 46,
     "metadata": {},
     "output_type": "execute_result"
    }
   ],
   "source": [
    "tf.transpose(x_1)"
   ]
  },
  {
   "cell_type": "code",
   "execution_count": 47,
   "metadata": {},
   "outputs": [
    {
     "data": {
      "text/plain": [
       "<tf.Tensor: shape=(2, 3), dtype=int32, numpy=\n",
       "array([[ 5, 13, 14],\n",
       "       [13, 35, 31]])>"
      ]
     },
     "execution_count": 47,
     "metadata": {},
     "output_type": "execute_result"
    }
   ],
   "source": [
    "tf.linalg.matmul(x_1,x_2,transpose_a=False, transpose_b=True,adjoint_a=False, adjoint_b=False)"
   ]
  },
  {
   "cell_type": "code",
   "execution_count": 48,
   "metadata": {},
   "outputs": [
    {
     "data": {
      "text/plain": [
       "<tf.Tensor: shape=(4, 2, 3), dtype=int32, numpy=\n",
       "array([[[   1,    2,    0],\n",
       "        [   0,    1,    1]],\n",
       "\n",
       "       [[ 102,    0,   24],\n",
       "        [  12,    0,    6]],\n",
       "\n",
       "       [[  25,   40,    0],\n",
       "        [  10,   16,    0]],\n",
       "\n",
       "       [[  40,  -25,  306],\n",
       "        [ 136,  -92, 1060]]])>"
      ]
     },
     "execution_count": 48,
     "metadata": {},
     "output_type": "execute_result"
    }
   ],
   "source": [
    "x_1 = tf.constant([\n",
    "    [[1,0],\n",
    "    [3,-1]],\n",
    "    [[10,2],\n",
    "     [1,2]],\n",
    "    [[5,0],\n",
    "     [2,0]],\n",
    "    [[2,9],\n",
    "     [4,32]]\n",
    "    ])\n",
    "x_2 = tf.constant([\n",
    "    [[1,2,0],\n",
    "    [3,5,-1]],\n",
    "    [[10,0,2],\n",
    "     [1,0,2]],\n",
    "    [[5,8,0],\n",
    "     [2,7,0]],\n",
    "    [[2,1,9],\n",
    "     [4,-3,32]]\n",
    "    ])\n",
    "\n",
    "tf.linalg.matmul(x_1, x_2)"
   ]
  },
  {
   "cell_type": "code",
   "execution_count": 49,
   "metadata": {},
   "outputs": [
    {
     "name": "stdout",
     "output_type": "stream",
     "text": [
      "tf.Tensor(\n",
      "[[1 0 0]\n",
      " [0 5 0]\n",
      " [0 0 6]\n",
      " [0 0 0]], shape=(4, 3), dtype=int32)\n",
      "tf.Tensor(\n",
      "[[1 0 0]\n",
      " [3 5 0]\n",
      " [1 5 6]\n",
      " [2 3 8]], shape=(4, 3), dtype=int32)\n",
      "tf.Tensor(\n",
      "[[  1  -2   0]\n",
      " [  0   5 100]\n",
      " [  0   0   6]\n",
      " [  0   0   0]], shape=(4, 3), dtype=int32)\n"
     ]
    }
   ],
   "source": [
    "tensor_two_d = tf.constant([\n",
    "    [1,-2,0],\n",
    "    [3,5,100],\n",
    "    [1,5,6],\n",
    "    [2,3,8]\n",
    "    ])\n",
    "\n",
    "print(tf.linalg.band_part(tensor_two_d, 0, 0))\n",
    "print(tf.linalg.band_part(tensor_two_d, -1, 0))\n",
    "print(tf.linalg.band_part(tensor_two_d, 0, -1))"
   ]
  },
  {
   "cell_type": "code",
   "execution_count": 50,
   "metadata": {},
   "outputs": [
    {
     "data": {
      "text/plain": [
       "<tf.Tensor: shape=(2, 2), dtype=float32, numpy=\n",
       "array([[ 1.0000000e+00,  0.0000000e+00],\n",
       "       [-4.7683716e-07,  1.0000002e+00]], dtype=float32)>"
      ]
     },
     "execution_count": 50,
     "metadata": {},
     "output_type": "execute_result"
    }
   ],
   "source": [
    "x = tf.constant([[1,2],[3,4]], dtype=tf.float32)\n",
    "\n",
    "x_inv  = tf.linalg.inv(x)\n",
    "\n",
    "x @ x_inv"
   ]
  },
  {
   "cell_type": "code",
   "execution_count": 51,
   "metadata": {},
   "outputs": [
    {
     "name": "stdout",
     "output_type": "stream",
     "text": [
      "tf.Tensor([5.4649854  0.36596614], shape=(2,), dtype=float32)\n",
      "tf.Tensor(\n",
      "[[ 0.4045535 -0.9145143]\n",
      " [ 0.9145143  0.4045535]], shape=(2, 2), dtype=float32)\n",
      "tf.Tensor(\n",
      "[[ 0.5760484  0.8174156]\n",
      " [ 0.8174156 -0.5760484]], shape=(2, 2), dtype=float32)\n"
     ]
    }
   ],
   "source": [
    "s,u,v = tf.linalg.svd(x)\n",
    "\n",
    "print(s)\n",
    "print(u)\n",
    "print(v)"
   ]
  },
  {
   "cell_type": "code",
   "execution_count": 52,
   "metadata": {},
   "outputs": [
    {
     "name": "stdout",
     "output_type": "stream",
     "text": [
      "(3, 4)\n",
      "(4, 5)\n",
      "AxB = [[33 69 77 -6 27]\n",
      " [ 9 12  0 10 13]\n",
      " [21 51 60 -7 14]]\n",
      "Einsum [[33 69 77 -6 27]\n",
      " [ 9 12  0 10 13]\n",
      " [21 51 60 -7 14]]\n"
     ]
    }
   ],
   "source": [
    "A = np.array([[2,6,5,2],\n",
    "              [2,-2,2,3],\n",
    "              [1,5,4,0],\n",
    "              ])\n",
    "\n",
    "B = np.array([\n",
    "    [2,9,0,3,0],\n",
    "    [3,6,8,-2,2],\n",
    "    [1,3,5,0,1],\n",
    "    [3,0,2,0,5],\n",
    "])\n",
    "\n",
    "print(A.shape)\n",
    "print(B.shape)\n",
    "\n",
    "print(\"AxB =\",np.matmul(A,B))\n",
    "print(\"Einsum\", np.einsum(\"ij,jk -> ik\", A,B))"
   ]
  },
  {
   "cell_type": "code",
   "execution_count": 53,
   "metadata": {},
   "outputs": [
    {
     "name": "stdout",
     "output_type": "stream",
     "text": [
      "(3, 4)\n",
      "(3, 4)\n",
      "AxB = [[  4  54   0   6]\n",
      " [  6 -12  16  -6]\n",
      " [  1  15  20   0]]\n",
      "Einsum [[  4  54   0   6]\n",
      " [  6 -12  16  -6]\n",
      " [  1  15  20   0]]\n"
     ]
    }
   ],
   "source": [
    "A = np.array([[2,6,5,2],\n",
    "              [2,-2,2,3],\n",
    "              [1,5,4,0],\n",
    "              ])\n",
    "\n",
    "B = np.array([\n",
    "    [2,9,0,3],\n",
    "    [3,6,8,-2],\n",
    "    [1,3,5,0],\n",
    "])\n",
    "\n",
    "print(A.shape)\n",
    "print(B.shape)\n",
    "\n",
    "print(\"AxB =\",A*B)\n",
    "print(\"Einsum\", np.einsum(\"ij,ij -> ij\", A,B))"
   ]
  },
  {
   "cell_type": "code",
   "execution_count": 54,
   "metadata": {},
   "outputs": [
    {
     "name": "stdout",
     "output_type": "stream",
     "text": [
      "Transponse =  [[ 2  2  1]\n",
      " [ 6 -2  5]\n",
      " [ 5  2  4]\n",
      " [ 2  3  0]]\n",
      "Einsum [[ 2  2  1]\n",
      " [ 6 -2  5]\n",
      " [ 5  2  4]\n",
      " [ 2  3  0]]\n"
     ]
    }
   ],
   "source": [
    "A = np.array([[2,6,5,2],\n",
    "              [2,-2,2,3],\n",
    "              [1,5,4,0],\n",
    "              ])\n",
    "\n",
    "print(\"Transponse = \", A.T)\n",
    "print(\"Einsum\", np.einsum(\"ij -> ji\",A))"
   ]
  },
  {
   "cell_type": "code",
   "execution_count": 55,
   "metadata": {},
   "outputs": [
    {
     "name": "stdout",
     "output_type": "stream",
     "text": [
      "(2, 3, 4) (2, 4, 5)\n",
      "AxB = [[[33 51 77 -6 27]\n",
      "  [ 9 -6  0 10 13]\n",
      "  [21 42 60 -7 14]]\n",
      "\n",
      " [[77  0 36 19  6]\n",
      "  [ 8  0 12 -4  4]\n",
      "  [23  0 29 -6 10]]]\n",
      "Einsum [[[33 51 77 -6 27]\n",
      "  [ 9 -6  0 10 13]\n",
      "  [21 42 60 -7 14]]\n",
      "\n",
      " [[77  0 36 19  6]\n",
      "  [ 8  0 12 -4  4]\n",
      "  [23  0 29 -6 10]]]\n"
     ]
    }
   ],
   "source": [
    "A = np.array([\n",
    "    [\n",
    "        [2,6,5,2],\n",
    "        [2,-2,2,3],\n",
    "        [1,5,4,0]\n",
    "    ],\n",
    "    [\n",
    "        [1,3,1,22],\n",
    "        [0,2,2,0],\n",
    "        [1,5,4,1]\n",
    "    ]\n",
    "])\n",
    "\n",
    "B = np.array([\n",
    "    [\n",
    "        [2,0,0,3,0],\n",
    "        [3,6,8,-2,2],\n",
    "        [1,3,5,0,1],\n",
    "        [3,0,2,0,5],\n",
    "    ],\n",
    "    [\n",
    "        [1,0,0,3,0],\n",
    "        [3,0,4,-2,2],\n",
    "        [1,0,2,0,0],\n",
    "        [3,0,1,1,0],\n",
    "    ]\n",
    "])\n",
    "\n",
    "print(A.shape, B.shape)\n",
    "\n",
    "print(\"AxB =\",np.matmul(A,B))\n",
    "print(\"Einsum\", np.einsum(\"bij,bjk -> bik\", A,B))"
   ]
  },
  {
   "cell_type": "code",
   "execution_count": 56,
   "metadata": {},
   "outputs": [
    {
     "name": "stdout",
     "output_type": "stream",
     "text": [
      "Sum = 72\n",
      "Einsum 72\n"
     ]
    }
   ],
   "source": [
    "A = np.array([\n",
    "    [\n",
    "        [2,6,5,2],\n",
    "        [2,-2,2,3],\n",
    "        [1,5,4,0]\n",
    "    ],\n",
    "    [\n",
    "        [1,3,1,22],\n",
    "        [0,2,2,0],\n",
    "        [1,5,4,1]\n",
    "    ]\n",
    "])\n",
    "\n",
    "print(\"Sum =\", np.sum(A))\n",
    "print(\"Einsum\", np.einsum(\"bij-> \", A))"
   ]
  },
  {
   "cell_type": "code",
   "execution_count": 57,
   "metadata": {},
   "outputs": [
    {
     "name": "stdout",
     "output_type": "stream",
     "text": [
      "Sum = [ 5  9 11  5]\n",
      "Einsum [ 5  9 11  5]\n",
      "Sum = [15  5 10]\n",
      "Einsum [15  5 10]\n"
     ]
    }
   ],
   "source": [
    "A = np.array(\n",
    "    [\n",
    "        [2,6,5,2],\n",
    "        [2,-2,2,3],\n",
    "        [1,5,4,0]\n",
    "    ], \n",
    ")\n",
    "\n",
    "print(\"Sum =\", np.sum(A, axis=0))\n",
    "print(\"Einsum\", np.einsum(\"ij -> j \", A))\n",
    "\n",
    "print(\"Sum =\", np.sum(A, axis=1))\n",
    "print(\"Einsum\", np.einsum(\"ij-> i \", A))"
   ]
  },
  {
   "cell_type": "code",
   "execution_count": 58,
   "metadata": {},
   "outputs": [],
   "source": [
    "Q = np.random.randn(32,64,512)\n",
    "k = np.random.randn(32,128,512)"
   ]
  },
  {
   "cell_type": "code",
   "execution_count": 59,
   "metadata": {},
   "outputs": [
    {
     "data": {
      "text/plain": [
       "(32, 64, 128)"
      ]
     },
     "execution_count": 59,
     "metadata": {},
     "output_type": "execute_result"
    }
   ],
   "source": [
    "np.einsum(\"bqm,bkm -> bqk\",Q,k).shape"
   ]
  },
  {
   "cell_type": "code",
   "execution_count": 60,
   "metadata": {},
   "outputs": [],
   "source": [
    "A = np.random.randn(2,4,4,2)\n",
    "B = np.random.randn(2,4,4,1)"
   ]
  },
  {
   "cell_type": "code",
   "execution_count": 61,
   "metadata": {},
   "outputs": [
    {
     "data": {
      "text/plain": [
       "(2, 4, 1, 2)"
      ]
     },
     "execution_count": 61,
     "metadata": {},
     "output_type": "execute_result"
    }
   ],
   "source": [
    "np.einsum(\"bcik, bcij -> bckj\", B,A).shape"
   ]
  },
  {
   "cell_type": "code",
   "execution_count": 4,
   "metadata": {},
   "outputs": [
    {
     "name": "stdout",
     "output_type": "stream",
     "text": [
      "(6,)\n"
     ]
    },
    {
     "data": {
      "text/plain": [
       "(<tf.Tensor: shape=(1, 6), dtype=int32, numpy=array([[1, 3, 4, 5, 6, 7]])>,\n",
       " <tf.Tensor: shape=(6, 1), dtype=int32, numpy=\n",
       " array([[1],\n",
       "        [3],\n",
       "        [4],\n",
       "        [5],\n",
       "        [6],\n",
       "        [7]])>)"
      ]
     },
     "execution_count": 4,
     "metadata": {},
     "output_type": "execute_result"
    }
   ],
   "source": [
    "a = tf.constant([1,3,4,5,6,7])\n",
    "print(a.shape)"
   ]
  },
  {
   "cell_type": "code",
   "execution_count": 5,
   "metadata": {},
   "outputs": [
    {
     "name": "stdout",
     "output_type": "stream",
     "text": [
      "tf.Tensor([[1 3 4 5 6 7]], shape=(1, 6), dtype=int32)\n",
      "tf.Tensor(\n",
      "[[1]\n",
      " [3]\n",
      " [4]\n",
      " [5]\n",
      " [6]\n",
      " [7]], shape=(6, 1), dtype=int32)\n"
     ]
    }
   ],
   "source": [
    "print(tf.expand_dims(a, axis=0))\n",
    "print(tf.expand_dims(a, axis=1))"
   ]
  },
  {
   "cell_type": "code",
   "execution_count": 9,
   "metadata": {},
   "outputs": [
    {
     "name": "stdout",
     "output_type": "stream",
     "text": [
      "(2, 3, 4)\n"
     ]
    },
    {
     "data": {
      "text/plain": [
       "<tf.Tensor: shape=(1, 2, 3, 4), dtype=int32, numpy=\n",
       "array([[[[ 2,  6,  5,  2],\n",
       "         [ 2, -2,  2,  3],\n",
       "         [ 1,  5,  4,  0]],\n",
       "\n",
       "        [[ 1,  3,  1, 22],\n",
       "         [ 0,  2,  2,  0],\n",
       "         [ 1,  5,  4,  1]]]])>"
      ]
     },
     "execution_count": 9,
     "metadata": {},
     "output_type": "execute_result"
    }
   ],
   "source": [
    "A = tf.constant([\n",
    "    [\n",
    "        [2,6,5,2],\n",
    "        [2,-2,2,3],\n",
    "        [1,5,4,0]\n",
    "    ],\n",
    "    [\n",
    "        [1,3,1,22],\n",
    "        [0,2,2,0],\n",
    "        [1,5,4,1]\n",
    "    ]\n",
    "])\n",
    "print(A.shape)\n",
    "tf.expand_dims(A, axis=0)"
   ]
  },
  {
   "cell_type": "code",
   "execution_count": 12,
   "metadata": {},
   "outputs": [
    {
     "name": "stdout",
     "output_type": "stream",
     "text": [
      "(2, 3, 4, 1)\n",
      "(2, 3, 4)\n"
     ]
    }
   ],
   "source": [
    "c = tf.expand_dims(A, axis=-1)\n",
    "print(c.shape)\n",
    "\n",
    "print(tf.squeeze(c, axis=-1).shape)"
   ]
  },
  {
   "cell_type": "code",
   "execution_count": 15,
   "metadata": {},
   "outputs": [
    {
     "name": "stdout",
     "output_type": "stream",
     "text": [
      "tf.Tensor(\n",
      "[[1 2 3]\n",
      " [4 5 6]\n",
      " [7 8 9]], shape=(3, 3), dtype=int32)\n",
      "tf.Tensor(\n",
      "[[1 2 3]\n",
      " [4 5 6]\n",
      " [7 8 9]], shape=(3, 3), dtype=int32)\n"
     ]
    }
   ],
   "source": [
    "a = tf.constant([1,2,3,4,5,6,7,8,9])\n",
    "\n",
    "print(tf.reshape(a, [3,3]))\n",
    "print(tf.reshape(a, [3,-1]))"
   ]
  },
  {
   "cell_type": "code",
   "execution_count": 19,
   "metadata": {},
   "outputs": [
    {
     "name": "stdout",
     "output_type": "stream",
     "text": [
      "(2, 3)\n"
     ]
    },
    {
     "data": {
      "text/plain": [
       "<tf.Tensor: shape=(6,), dtype=int32, numpy=array([1, 2, 3, 4, 5, 6])>"
      ]
     },
     "execution_count": 19,
     "metadata": {},
     "output_type": "execute_result"
    }
   ],
   "source": [
    "t1 = tf.constant([[1,2,3], [4,5,6]])\n",
    "print(t1.shape)\n",
    "\n",
    "tf.reshape(t1, [6])"
   ]
  },
  {
   "cell_type": "code",
   "execution_count": 24,
   "metadata": {},
   "outputs": [
    {
     "name": "stdout",
     "output_type": "stream",
     "text": [
      "tf.Tensor(\n",
      "[[ 1  2  3]\n",
      " [ 4  5  6]\n",
      " [ 7  8  9]\n",
      " [10 11 12]], shape=(4, 3), dtype=int32)\n",
      "tf.Tensor(\n",
      "[[ 1  2  3  7  8  9]\n",
      " [ 4  5  6 10 11 12]], shape=(2, 6), dtype=int32)\n"
     ]
    }
   ],
   "source": [
    "t1 = tf.constant([[1,2,3], [4,5,6]])\n",
    "t2 = tf.constant([[7,8,9], [10,11,12]])\n",
    "\n",
    "print(tf.concat([t1,t2], axis=0))\n",
    "print(tf.concat([t1,t2], axis=1))"
   ]
  },
  {
   "cell_type": "code",
   "execution_count": 26,
   "metadata": {},
   "outputs": [
    {
     "data": {
      "text/plain": [
       "<tf.Tensor: shape=(8, 3), dtype=int32, numpy=\n",
       "array([[ 1,  2,  3],\n",
       "       [ 4,  5,  6],\n",
       "       [ 5,  6,  2],\n",
       "       [ 1,  2,  1],\n",
       "       [ 7,  8,  9],\n",
       "       [10, 11, 12],\n",
       "       [ 0,  0,  2],\n",
       "       [-1,  5,  2]])>"
      ]
     },
     "execution_count": 26,
     "metadata": {},
     "output_type": "execute_result"
    }
   ],
   "source": [
    "t1 = [[1, 2, 3],\n",
    "      [4, 5, 6],\n",
    "      [5, 6, 2],\n",
    "      [1, 2, 1]]\n",
    "\n",
    "t2 = [[7, 8, 9],\n",
    "      [10, 11, 12],\n",
    "      [0, 0, 2],\n",
    "      [-1, 5, 2]]\n",
    "\n",
    "tf.concat([t1, t2], axis = 0)"
   ]
  },
  {
   "cell_type": "code",
   "execution_count": 30,
   "metadata": {},
   "outputs": [
    {
     "name": "stdout",
     "output_type": "stream",
     "text": [
      "tf.Tensor(\n",
      "[[[ 1  2  3]\n",
      "  [ 4  5  6]]\n",
      "\n",
      " [[ 7  8  9]\n",
      "  [10 11 12]]], shape=(2, 2, 3), dtype=int32)\n",
      "tf.Tensor(\n",
      "[[[ 1  7]\n",
      "  [ 2  8]\n",
      "  [ 3  9]]\n",
      "\n",
      " [[ 4 10]\n",
      "  [ 5 11]\n",
      "  [ 6 12]]], shape=(2, 3, 2), dtype=int32)\n",
      "tf.Tensor(\n",
      "[[ 1  2  3]\n",
      " [ 4  5  6]\n",
      " [ 7  8  9]\n",
      " [10 11 12]], shape=(4, 3), dtype=int32)\n"
     ]
    }
   ],
   "source": [
    "t1 = tf.constant([[1,2,3], [4,5,6]])\n",
    "t2 = tf.constant([[7,8,9], [10,11,12]])\n",
    "\n",
    "print(tf.stack([t1, t2], axis=0))\n",
    "print(tf.stack([t1, t2], axis=-1))\n",
    "print(tf.concat([t1, t2], axis=0))"
   ]
  },
  {
   "cell_type": "code",
   "execution_count": 38,
   "metadata": {},
   "outputs": [
    {
     "name": "stdout",
     "output_type": "stream",
     "text": [
      "tf.Tensor(\n",
      "[[0 0 0 0 0 0 0 0 0]\n",
      " [0 0 0 0 0 0 0 0 0]\n",
      " [0 0 0 0 0 0 0 0 0]\n",
      " [0 0 0 0 0 0 0 0 0]\n",
      " [0 0 1 2 3 0 0 0 0]\n",
      " [0 0 4 5 6 0 0 0 0]\n",
      " [0 0 0 0 0 0 0 0 0]], shape=(7, 9), dtype=int32)\n",
      "tf.Tensor(\n",
      "[[9 9 9 9 9 9 9 9 9]\n",
      " [9 9 9 9 9 9 9 9 9]\n",
      " [9 9 9 9 9 9 9 9 9]\n",
      " [9 9 9 9 9 9 9 9 9]\n",
      " [9 9 1 2 3 9 9 9 9]\n",
      " [9 9 4 5 6 9 9 9 9]\n",
      " [9 9 9 9 9 9 9 9 9]], shape=(7, 9), dtype=int32)\n"
     ]
    }
   ],
   "source": [
    "t = tf.constant([[1,2,3], [4,5,6]])\n",
    "# paddings = tf.constant([[1,1], [2,4]])\n",
    "paddings = tf.constant([[4,1], [2,4]])\n",
    "\n",
    "print(tf.pad(t,paddings, \"CONSTANT\"))\n",
    "print(tf.pad(t,paddings, \"CONSTANT\", constant_values=9))"
   ]
  },
  {
   "cell_type": "code",
   "execution_count": 39,
   "metadata": {},
   "outputs": [
    {
     "data": {
      "text/plain": [
       "<tf.Tensor: shape=(2,), dtype=int32, numpy=array([5, 6])>"
      ]
     },
     "execution_count": 39,
     "metadata": {},
     "output_type": "execute_result"
    }
   ],
   "source": [
    "a = tf.constant([4,5,6,7])\n",
    "\n",
    "a[1:3]"
   ]
  },
  {
   "cell_type": "code",
   "execution_count": 40,
   "metadata": {},
   "outputs": [
    {
     "data": {
      "text/plain": [
       "<tf.Tensor: shape=(3,), dtype=int32, numpy=array([4, 7, 5])>"
      ]
     },
     "execution_count": 40,
     "metadata": {},
     "output_type": "execute_result"
    }
   ],
   "source": [
    "tf.gather(a, [0,3,1], axis=0)"
   ]
  },
  {
   "cell_type": "code",
   "execution_count": 53,
   "metadata": {},
   "outputs": [
    {
     "name": "stdout",
     "output_type": "stream",
     "text": [
      "tf.Tensor(\n",
      "[[-1  5  2]\n",
      " [ 7  8  9]], shape=(2, 3), dtype=int32)\n",
      "tf.Tensor(\n",
      "[[ 9  7]\n",
      " [12 10]\n",
      " [ 2  1]\n",
      " [ 2 -1]], shape=(4, 2), dtype=int32)\n"
     ]
    }
   ],
   "source": [
    "b = [[7, 8, 9],\n",
    "      [10, 11, 12],\n",
    "      [1, 0, 2],\n",
    "      [-1, 5, 2]]\n",
    "\n",
    "print(tf.gather(b, [3,0], axis=0))\n",
    "print(tf.gather(b, [2,0], axis=1))"
   ]
  },
  {
   "cell_type": "code",
   "execution_count": 51,
   "metadata": {},
   "outputs": [
    {
     "name": "stdout",
     "output_type": "stream",
     "text": [
      "tf.Tensor(\n",
      "[[[-1  5  2]\n",
      "  [ 7  8  9]]\n",
      "\n",
      " [[ 0  0  2]\n",
      "  [ 7  8  9]]], shape=(2, 2, 3), dtype=int32)\n"
     ]
    }
   ],
   "source": [
    "print(tf.gather(b, [[3,0], [2,0]], axis=0))"
   ]
  },
  {
   "cell_type": "code",
   "execution_count": 55,
   "metadata": {},
   "outputs": [
    {
     "name": "stdout",
     "output_type": "stream",
     "text": [
      "tf.Tensor([-1  1], shape=(2,), dtype=int32)\n",
      "tf.Tensor(\n",
      "[[-1  5  2]\n",
      " [ 1  0  2]], shape=(2, 3), dtype=int32)\n"
     ]
    }
   ],
   "source": [
    "print(tf.gather_nd(b, [[3,0],[2,0]]))\n",
    "print(tf.gather_nd(b, [[3],[2]]))"
   ]
  },
  {
   "cell_type": "code",
   "execution_count": null,
   "metadata": {},
   "outputs": [],
   "source": []
  },
  {
   "cell_type": "code",
   "execution_count": 64,
   "metadata": {},
   "outputs": [
    {
     "data": {
      "text/plain": [
       "(TensorShape([4, None]),\n",
       " <tf.RaggedTensor [[1, 2, 0], [3], [1, 5, 6, 5, 6], [2, 3]]>)"
      ]
     },
     "execution_count": 64,
     "metadata": {},
     "output_type": "execute_result"
    }
   ],
   "source": [
    "x = [\n",
    "    [1,2,0],\n",
    "    [3],\n",
    "    [1,5,6,5,6],\n",
    "    [2,3],\n",
    "]\n",
    "\n",
    "ragged_tensor = tf.ragged.constant(x)\n",
    "ragged_tensor.shape, ragged_tensor"
   ]
  },
  {
   "cell_type": "code",
   "execution_count": 65,
   "metadata": {},
   "outputs": [
    {
     "data": {
      "text/plain": [
       "<tf.RaggedTensor [[3, 1, 4, 1], [], [5, 9, 2], [6], []]>"
      ]
     },
     "execution_count": 65,
     "metadata": {},
     "output_type": "execute_result"
    }
   ],
   "source": [
    "tf.RaggedTensor.from_row_lengths(\n",
    "    values=[3,1,4,1,5,9,2,6],\n",
    "    row_lengths=[4,0,3,1,0]\n",
    ")"
   ]
  },
  {
   "cell_type": "code",
   "execution_count": 70,
   "metadata": {},
   "outputs": [
    {
     "data": {
      "text/plain": [
       "SparseTensor(indices=tf.Tensor(\n",
       "[[1 1]\n",
       " [3 4]], shape=(2, 2), dtype=int64), values=tf.Tensor([11 56], shape=(2,), dtype=int32), dense_shape=tf.Tensor([5 6], shape=(2,), dtype=int64))"
      ]
     },
     "execution_count": 70,
     "metadata": {},
     "output_type": "execute_result"
    }
   ],
   "source": [
    "sparse_tensor = tf.sparse.SparseTensor(\n",
    "    indices=[[1,1],[3,4]], values=[11,56], dense_shape=[5,6]\n",
    ")\n",
    "sparse_tensor\n"
   ]
  },
  {
   "cell_type": "code",
   "execution_count": 71,
   "metadata": {},
   "outputs": [
    {
     "data": {
      "text/plain": [
       "<tf.Tensor: shape=(5, 6), dtype=int32, numpy=\n",
       "array([[ 0,  0,  0,  0,  0,  0],\n",
       "       [ 0, 11,  0,  0,  0,  0],\n",
       "       [ 0,  0,  0,  0,  0,  0],\n",
       "       [ 0,  0,  0,  0, 56,  0],\n",
       "       [ 0,  0,  0,  0,  0,  0]])>"
      ]
     },
     "execution_count": 71,
     "metadata": {},
     "output_type": "execute_result"
    }
   ],
   "source": [
    "tf.sparse.to_dense(sparse_tensor)"
   ]
  },
  {
   "cell_type": "code",
   "execution_count": 72,
   "metadata": {},
   "outputs": [
    {
     "data": {
      "text/plain": [
       "<tf.Tensor: shape=(3,), dtype=string, numpy=array([b'Hello', b'I am', b'String'], dtype=object)>"
      ]
     },
     "execution_count": 72,
     "metadata": {},
     "output_type": "execute_result"
    }
   ],
   "source": [
    "tensor_string = tf.constant([\"Hello\", \"I am\", \"String\"])\n",
    "\n",
    "tensor_string"
   ]
  },
  {
   "cell_type": "code",
   "execution_count": 74,
   "metadata": {},
   "outputs": [
    {
     "data": {
      "text/plain": [
       "<tf.Tensor: shape=(), dtype=string, numpy=b'Hello I am String'>"
      ]
     },
     "execution_count": 74,
     "metadata": {},
     "output_type": "execute_result"
    }
   ],
   "source": [
    "tf.strings.join(tensor_string, separator=' ')"
   ]
  },
  {
   "cell_type": "code",
   "execution_count": 77,
   "metadata": {},
   "outputs": [
    {
     "data": {
      "text/plain": [
       "<tf.Variable 'var1:0' shape=(2,) dtype=int32, numpy=array([1, 2])>"
      ]
     },
     "execution_count": 77,
     "metadata": {},
     "output_type": "execute_result"
    }
   ],
   "source": [
    "x_var = tf.Variable([1,2], name=\"var1\")\n",
    "x_var"
   ]
  },
  {
   "cell_type": "code",
   "execution_count": 79,
   "metadata": {},
   "outputs": [
    {
     "data": {
      "text/plain": [
       "<tf.Variable 'UnreadVariable' shape=(2,) dtype=int32, numpy=array([2, 1])>"
      ]
     },
     "execution_count": 79,
     "metadata": {},
     "output_type": "execute_result"
    }
   ],
   "source": [
    "x_var.assign([2,1])"
   ]
  },
  {
   "cell_type": "code",
   "execution_count": 82,
   "metadata": {},
   "outputs": [
    {
     "data": {
      "text/plain": [
       "(<tf.Variable 'UnreadVariable' shape=(2,) dtype=int32, numpy=array([3, 2])>,\n",
       " <tf.Variable 'UnreadVariable' shape=(2,) dtype=int32, numpy=array([3, 2])>)"
      ]
     },
     "execution_count": 82,
     "metadata": {},
     "output_type": "execute_result"
    }
   ],
   "source": [
    "x_var.assign_add([1,1])"
   ]
  },
  {
   "cell_type": "code",
   "execution_count": 83,
   "metadata": {},
   "outputs": [
    {
     "data": {
      "text/plain": [
       "<tf.Variable 'UnreadVariable' shape=(2,) dtype=int32, numpy=array([2, 1])>"
      ]
     },
     "execution_count": 83,
     "metadata": {},
     "output_type": "execute_result"
    }
   ],
   "source": [
    "x_var.assign_sub([1,1])"
   ]
  },
  {
   "cell_type": "code",
   "execution_count": 88,
   "metadata": {},
   "outputs": [
    {
     "data": {
      "text/plain": [
       "('/job:localhost/replica:0/task:0/device:CPU:0',\n",
       " '/job:localhost/replica:0/task:0/device:CPU:0')"
      ]
     },
     "execution_count": 88,
     "metadata": {},
     "output_type": "execute_result"
    }
   ],
   "source": [
    "with tf.device('CPU:0'):\n",
    "    x_var = tf.Variable(0.2)\n",
    "    x = tf.constant(0.2)\n",
    "\n",
    "x_var.device, x.device"
   ]
  },
  {
   "cell_type": "code",
   "execution_count": 89,
   "metadata": {},
   "outputs": [
    {
     "name": "stdout",
     "output_type": "stream",
     "text": [
      "/job:localhost/replica:0/task:0/device:CPU:0 tf.Tensor(0.2, shape=(), dtype=float32)\n",
      "/job:localhost/replica:0/task:0/device:CPU:0 tf.Tensor(0.2, shape=(), dtype=float32)\n",
      "/job:localhost/replica:0/task:0/device:CPU:0 tf.Tensor(0.4, shape=(), dtype=float32)\n"
     ]
    }
   ],
   "source": [
    "with tf.device('CPU:0'):\n",
    "    x_1 = tf.constant(0.2)\n",
    "    x_2 = tf.constant(0.2)\n",
    "\n",
    "with tf.device('GPU:0'):\n",
    "    x_3 = x_1 + x_2\n",
    "\n",
    "print(x_1.device,x_1)\n",
    "print(x_2.device,x_2)\n",
    "print(x_3.device,x_3)"
   ]
  },
  {
   "cell_type": "code",
   "execution_count": null,
   "metadata": {},
   "outputs": [],
   "source": []
  }
 ],
 "metadata": {
  "kernelspec": {
   "display_name": "Python 3",
   "language": "python",
   "name": "python3"
  },
  "language_info": {
   "codemirror_mode": {
    "name": "ipython",
    "version": 3
   },
   "file_extension": ".py",
   "mimetype": "text/x-python",
   "name": "python",
   "nbconvert_exporter": "python",
   "pygments_lexer": "ipython3",
   "version": "3.11.0"
  }
 },
 "nbformat": 4,
 "nbformat_minor": 2
}
